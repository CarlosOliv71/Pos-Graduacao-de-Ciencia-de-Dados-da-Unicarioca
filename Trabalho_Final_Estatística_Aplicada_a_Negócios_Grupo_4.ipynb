{
  "nbformat": 4,
  "nbformat_minor": 0,
  "metadata": {
    "colab": {
      "provenance": [],
      "authorship_tag": "ABX9TyONV4ix8o2WxwpawLxYPL6R",
      "include_colab_link": true
    },
    "kernelspec": {
      "name": "python3",
      "display_name": "Python 3"
    },
    "language_info": {
      "name": "python"
    }
  },
  "cells": [
    {
      "cell_type": "markdown",
      "metadata": {
        "id": "view-in-github",
        "colab_type": "text"
      },
      "source": [
        "<a href=\"https://colab.research.google.com/github/CarlosOliv71/Pos-Graduacao-de-Ciencia-de-Dados-da-Unicarioca/blob/main/Trabalho_Final_Estat%C3%ADstica_Aplicada_a_Neg%C3%B3cios_Grupo_4.ipynb\" target=\"_parent\"><img src=\"https://colab.research.google.com/assets/colab-badge.svg\" alt=\"Open In Colab\"/></a>"
      ]
    },
    {
      "cell_type": "markdown",
      "source": [
        "Centro Universitário Carioca - Pós em Ciência de Dados\n",
        "\n",
        "Estatística Aplicada a Negócios\n",
        "\n",
        "Professor: Manuel Martins\n",
        "\n",
        "Grupo 04: Carlos Eduardo, Gabriel Justino, João Batista e Rômulo Costa"
      ],
      "metadata": {
        "id": "S39i50ZNLtIm"
      }
    },
    {
      "cell_type": "markdown",
      "source": [
        "Trabalho Final -\n",
        "Análise Exploratória de Dados de Amostragem – Inferência Intervalo de Confiança"
      ],
      "metadata": {
        "id": "AOsFKd8j3ptn"
      }
    },
    {
      "cell_type": "code",
      "source": [
        "from google.colab import files\n",
        "\n",
        "arquivo = files.upload()"
      ],
      "metadata": {
        "colab": {
          "base_uri": "https://localhost:8080/",
          "height": 73
        },
        "id": "HusblY4EwHmx",
        "outputId": "949bf2c5-261d-4dad-b5e2-6dd4328dc5e2"
      },
      "execution_count": 8,
      "outputs": [
        {
          "output_type": "display_data",
          "data": {
            "text/plain": [
              "<IPython.core.display.HTML object>"
            ],
            "text/html": [
              "\n",
              "     <input type=\"file\" id=\"files-d18e608c-a93f-4768-8b42-9823a3dffbfb\" name=\"files[]\" multiple disabled\n",
              "        style=\"border:none\" />\n",
              "     <output id=\"result-d18e608c-a93f-4768-8b42-9823a3dffbfb\">\n",
              "      Upload widget is only available when the cell has been executed in the\n",
              "      current browser session. Please rerun this cell to enable.\n",
              "      </output>\n",
              "      <script>// Copyright 2017 Google LLC\n",
              "//\n",
              "// Licensed under the Apache License, Version 2.0 (the \"License\");\n",
              "// you may not use this file except in compliance with the License.\n",
              "// You may obtain a copy of the License at\n",
              "//\n",
              "//      http://www.apache.org/licenses/LICENSE-2.0\n",
              "//\n",
              "// Unless required by applicable law or agreed to in writing, software\n",
              "// distributed under the License is distributed on an \"AS IS\" BASIS,\n",
              "// WITHOUT WARRANTIES OR CONDITIONS OF ANY KIND, either express or implied.\n",
              "// See the License for the specific language governing permissions and\n",
              "// limitations under the License.\n",
              "\n",
              "/**\n",
              " * @fileoverview Helpers for google.colab Python module.\n",
              " */\n",
              "(function(scope) {\n",
              "function span(text, styleAttributes = {}) {\n",
              "  const element = document.createElement('span');\n",
              "  element.textContent = text;\n",
              "  for (const key of Object.keys(styleAttributes)) {\n",
              "    element.style[key] = styleAttributes[key];\n",
              "  }\n",
              "  return element;\n",
              "}\n",
              "\n",
              "// Max number of bytes which will be uploaded at a time.\n",
              "const MAX_PAYLOAD_SIZE = 100 * 1024;\n",
              "\n",
              "function _uploadFiles(inputId, outputId) {\n",
              "  const steps = uploadFilesStep(inputId, outputId);\n",
              "  const outputElement = document.getElementById(outputId);\n",
              "  // Cache steps on the outputElement to make it available for the next call\n",
              "  // to uploadFilesContinue from Python.\n",
              "  outputElement.steps = steps;\n",
              "\n",
              "  return _uploadFilesContinue(outputId);\n",
              "}\n",
              "\n",
              "// This is roughly an async generator (not supported in the browser yet),\n",
              "// where there are multiple asynchronous steps and the Python side is going\n",
              "// to poll for completion of each step.\n",
              "// This uses a Promise to block the python side on completion of each step,\n",
              "// then passes the result of the previous step as the input to the next step.\n",
              "function _uploadFilesContinue(outputId) {\n",
              "  const outputElement = document.getElementById(outputId);\n",
              "  const steps = outputElement.steps;\n",
              "\n",
              "  const next = steps.next(outputElement.lastPromiseValue);\n",
              "  return Promise.resolve(next.value.promise).then((value) => {\n",
              "    // Cache the last promise value to make it available to the next\n",
              "    // step of the generator.\n",
              "    outputElement.lastPromiseValue = value;\n",
              "    return next.value.response;\n",
              "  });\n",
              "}\n",
              "\n",
              "/**\n",
              " * Generator function which is called between each async step of the upload\n",
              " * process.\n",
              " * @param {string} inputId Element ID of the input file picker element.\n",
              " * @param {string} outputId Element ID of the output display.\n",
              " * @return {!Iterable<!Object>} Iterable of next steps.\n",
              " */\n",
              "function* uploadFilesStep(inputId, outputId) {\n",
              "  const inputElement = document.getElementById(inputId);\n",
              "  inputElement.disabled = false;\n",
              "\n",
              "  const outputElement = document.getElementById(outputId);\n",
              "  outputElement.innerHTML = '';\n",
              "\n",
              "  const pickedPromise = new Promise((resolve) => {\n",
              "    inputElement.addEventListener('change', (e) => {\n",
              "      resolve(e.target.files);\n",
              "    });\n",
              "  });\n",
              "\n",
              "  const cancel = document.createElement('button');\n",
              "  inputElement.parentElement.appendChild(cancel);\n",
              "  cancel.textContent = 'Cancel upload';\n",
              "  const cancelPromise = new Promise((resolve) => {\n",
              "    cancel.onclick = () => {\n",
              "      resolve(null);\n",
              "    };\n",
              "  });\n",
              "\n",
              "  // Wait for the user to pick the files.\n",
              "  const files = yield {\n",
              "    promise: Promise.race([pickedPromise, cancelPromise]),\n",
              "    response: {\n",
              "      action: 'starting',\n",
              "    }\n",
              "  };\n",
              "\n",
              "  cancel.remove();\n",
              "\n",
              "  // Disable the input element since further picks are not allowed.\n",
              "  inputElement.disabled = true;\n",
              "\n",
              "  if (!files) {\n",
              "    return {\n",
              "      response: {\n",
              "        action: 'complete',\n",
              "      }\n",
              "    };\n",
              "  }\n",
              "\n",
              "  for (const file of files) {\n",
              "    const li = document.createElement('li');\n",
              "    li.append(span(file.name, {fontWeight: 'bold'}));\n",
              "    li.append(span(\n",
              "        `(${file.type || 'n/a'}) - ${file.size} bytes, ` +\n",
              "        `last modified: ${\n",
              "            file.lastModifiedDate ? file.lastModifiedDate.toLocaleDateString() :\n",
              "                                    'n/a'} - `));\n",
              "    const percent = span('0% done');\n",
              "    li.appendChild(percent);\n",
              "\n",
              "    outputElement.appendChild(li);\n",
              "\n",
              "    const fileDataPromise = new Promise((resolve) => {\n",
              "      const reader = new FileReader();\n",
              "      reader.onload = (e) => {\n",
              "        resolve(e.target.result);\n",
              "      };\n",
              "      reader.readAsArrayBuffer(file);\n",
              "    });\n",
              "    // Wait for the data to be ready.\n",
              "    let fileData = yield {\n",
              "      promise: fileDataPromise,\n",
              "      response: {\n",
              "        action: 'continue',\n",
              "      }\n",
              "    };\n",
              "\n",
              "    // Use a chunked sending to avoid message size limits. See b/62115660.\n",
              "    let position = 0;\n",
              "    do {\n",
              "      const length = Math.min(fileData.byteLength - position, MAX_PAYLOAD_SIZE);\n",
              "      const chunk = new Uint8Array(fileData, position, length);\n",
              "      position += length;\n",
              "\n",
              "      const base64 = btoa(String.fromCharCode.apply(null, chunk));\n",
              "      yield {\n",
              "        response: {\n",
              "          action: 'append',\n",
              "          file: file.name,\n",
              "          data: base64,\n",
              "        },\n",
              "      };\n",
              "\n",
              "      let percentDone = fileData.byteLength === 0 ?\n",
              "          100 :\n",
              "          Math.round((position / fileData.byteLength) * 100);\n",
              "      percent.textContent = `${percentDone}% done`;\n",
              "\n",
              "    } while (position < fileData.byteLength);\n",
              "  }\n",
              "\n",
              "  // All done.\n",
              "  yield {\n",
              "    response: {\n",
              "      action: 'complete',\n",
              "    }\n",
              "  };\n",
              "}\n",
              "\n",
              "scope.google = scope.google || {};\n",
              "scope.google.colab = scope.google.colab || {};\n",
              "scope.google.colab._files = {\n",
              "  _uploadFiles,\n",
              "  _uploadFilesContinue,\n",
              "};\n",
              "})(self);\n",
              "</script> "
            ]
          },
          "metadata": {}
        },
        {
          "output_type": "stream",
          "name": "stdout",
          "text": [
            "Saving POP_Mun_2022.xlsx to POP_Mun_2022 (1).xlsx\n"
          ]
        }
      ]
    },
    {
      "cell_type": "code",
      "source": [
        "nome=list(arquivo.keys())[0]\n",
        "nome"
      ],
      "metadata": {
        "colab": {
          "base_uri": "https://localhost:8080/",
          "height": 36
        },
        "id": "lCu2Ini6wNDX",
        "outputId": "b9eb55ee-4141-4fa3-9d98-c55a623e988b"
      },
      "execution_count": 9,
      "outputs": [
        {
          "output_type": "execute_result",
          "data": {
            "text/plain": [
              "'POP_Mun_2022 (1).xlsx'"
            ],
            "application/vnd.google.colaboratory.intrinsic+json": {
              "type": "string"
            }
          },
          "metadata": {},
          "execution_count": 9
        }
      ]
    },
    {
      "cell_type": "code",
      "execution_count": 10,
      "metadata": {
        "colab": {
          "base_uri": "https://localhost:8080/"
        },
        "id": "X-8ulEaatZ9a",
        "outputId": "bf55e5f1-99ca-408f-c642-58ee70100733"
      },
      "outputs": [
        {
          "output_type": "stream",
          "name": "stdout",
          "text": [
            "   UF  COD_UF  COD_MUN              MUNICÍPIO     POP\n",
            "0  RO      11       15  Alta Floresta D'Oeste   21558\n",
            "1  RO      11       23              Ariquemes  100896\n",
            "2  RO      11       31                 Cabixi    5107\n",
            "3  RO      11       49                 Cacoal   92202\n",
            "4  RO      11       56             Cerejeiras   15237\n"
          ]
        }
      ],
      "source": [
        "import io\n",
        "import pandas as pd\n",
        "\n",
        "df = pd.read_excel(io.BytesIO(arquivo[nome]))\n",
        "print(df.head())"
      ]
    },
    {
      "cell_type": "code",
      "source": [
        "# análise exploratória\n",
        "\n",
        "import pandas as pd\n",
        "import numpy as np\n",
        "\n",
        "total_populacao = df['POP'].sum()\n",
        "media_populacao = df['POP'].mean()\n",
        "mediana_populacao = df['POP'].median()\n",
        "min_populacao = df['POP'].min()\n",
        "max_populacao = df['POP'].max()\n",
        "quartis = df['POP'].quantile([0.25, 0.5, 0.75])\n",
        "variancia = df['POP'].var()\n",
        "desvio_padrao = df['POP'].std()\n",
        "coeficiente_variacao = (desvio_padrao / media_populacao) * 100\n",
        "\n",
        "\n",
        "# Município com a menor população\n",
        "municipio_min_pop = df.loc[df['POP'] == min_populacao, 'MUNICÍPIO'].iloc[0]\n",
        "\n",
        "# Município com a maior população\n",
        "municipio_max_pop = df.loc[df['POP'] == max_populacao, 'MUNICÍPIO'].iloc[0]\n",
        "\n",
        "# os resultados\n",
        "print(f\"Total da População: {total_populacao}\")\n",
        "print(f\"Média da População: {media_populacao:.2f} habitantes por município\")\n",
        "print(f\"Mediana da População: {mediana_populacao:.2f}\")\n",
        "print(f\"Mínimo: {municipio_min_pop} ({min_populacao} habitantes)\")\n",
        "print(f\"Máximo: {municipio_max_pop} ({max_populacao} habitantes)\")\n",
        "print(f\"Quartis:\\n{quartis}\")\n",
        "print(f\"Variância: {variancia:.2f}\")\n",
        "print(f\"Desvio Padrão: {desvio_padrao:.2f}\")\n",
        "print(f\"Coeficiente de Variação: {coeficiente_variacao:.2f}%\")"
      ],
      "metadata": {
        "colab": {
          "base_uri": "https://localhost:8080/"
        },
        "id": "2Yatte__tluj",
        "outputId": "eac9b197-32c4-413c-f48c-27eaacdc572d"
      },
      "execution_count": 17,
      "outputs": [
        {
          "output_type": "stream",
          "name": "stdout",
          "text": [
            "Total da População: 207750291\n",
            "Média da População: 37298.08 habitantes por município\n",
            "Mediana da População: 11095.50\n",
            "Mínimo: Serra da Saudade (836 habitantes)\n",
            "Máximo: São Paulo (12200180 habitantes)\n",
            "Quartis:\n",
            "0.25     5281.75\n",
            "0.50    11095.50\n",
            "0.75    24615.00\n",
            "Name: POP, dtype: float64\n",
            "Variância: 47685025320.12\n",
            "Desvio Padrão: 218369.01\n",
            "Coeficiente de Variação: 585.47%\n"
          ]
        }
      ]
    },
    {
      "cell_type": "code",
      "source": [
        "# conjunto de 6 amostras aleatórias simples\n",
        "\n",
        "np.random.seed(42)\n",
        "\n",
        "tamanhos_amostra = [100, 1000, 4000]\n",
        "fracoes_amostrais = [0.10, 0.20, 1.00]\n",
        "\n",
        "for tamanho in tamanhos_amostra:\n",
        "    amostra = df.sample(n=tamanho, random_state=42)\n",
        "    print(f\"\\nAmostra de tamanho {tamanho}:\\n{amostra.head()}\")\n",
        "\n",
        "for fracao in fracoes_amostrais:\n",
        "    tamanho_fracao = int(len(df) * fracao)\n",
        "    amostra_fracao = df.sample(n=tamanho_fracao, random_state=42)\n",
        "    print(f\"\\nAmostra de fração {fracao*100:.0f}% (tamanho {tamanho_fracao}):\\n{amostra_fracao.head()}\")\n",
        "\n",
        "# 6 amostras aleatórias simples sem reposição com tamanho 100\n",
        "amostras_100 = []\n",
        "for _ in range(6):\n",
        "  amostras_100.append(df.sample(n=100, replace=False, random_state=np.random.randint(0,1000)))\n",
        "\n",
        "# primeira linha de cada amostra de tamanho 100\n",
        "for i, amostra in enumerate(amostras_100):\n",
        "  print(f\"\\nAmostra {i+1} de tamanho 100:\\n{amostra.head(1)}\")"
      ],
      "metadata": {
        "colab": {
          "base_uri": "https://localhost:8080/"
        },
        "id": "v5B2PauB4IGf",
        "outputId": "7d64a759-c06a-48de-85f8-ccc4a163ae71"
      },
      "execution_count": 18,
      "outputs": [
        {
          "output_type": "stream",
          "name": "stdout",
          "text": [
            "\n",
            "Amostra de tamanho 100:\n",
            "      UF  COD_UF  COD_MUN   MUNICÍPIO    POP\n",
            "1168  RN      24     8607      Paraná   3934\n",
            "765   PI      22     5102    Itaueira   9939\n",
            "465   MA      21      907    Araioses  38980\n",
            "1117  RN      24     3806    Florânia  10199\n",
            "5193  MT      51     1258  Araputanga  13538\n",
            "\n",
            "Amostra de tamanho 1000:\n",
            "      UF  COD_UF  COD_MUN   MUNICÍPIO    POP\n",
            "1168  RN      24     8607      Paraná   3934\n",
            "765   PI      22     5102    Itaueira   9939\n",
            "465   MA      21      907    Araioses  38980\n",
            "1117  RN      24     3806    Florânia  10199\n",
            "5193  MT      51     1258  Araputanga  13538\n",
            "\n",
            "Amostra de tamanho 4000:\n",
            "      UF  COD_UF  COD_MUN   MUNICÍPIO    POP\n",
            "1168  RN      24     8607      Paraná   3934\n",
            "765   PI      22     5102    Itaueira   9939\n",
            "465   MA      21      907    Araioses  38980\n",
            "1117  RN      24     3806    Florânia  10199\n",
            "5193  MT      51     1258  Araputanga  13538\n",
            "\n",
            "Amostra de fração 10% (tamanho 557):\n",
            "      UF  COD_UF  COD_MUN   MUNICÍPIO    POP\n",
            "1168  RN      24     8607      Paraná   3934\n",
            "765   PI      22     5102    Itaueira   9939\n",
            "465   MA      21      907    Araioses  38980\n",
            "1117  RN      24     3806    Florânia  10199\n",
            "5193  MT      51     1258  Araputanga  13538\n",
            "\n",
            "Amostra de fração 20% (tamanho 1114):\n",
            "      UF  COD_UF  COD_MUN   MUNICÍPIO    POP\n",
            "1168  RN      24     8607      Paraná   3934\n",
            "765   PI      22     5102    Itaueira   9939\n",
            "465   MA      21      907    Araioses  38980\n",
            "1117  RN      24     3806    Florânia  10199\n",
            "5193  MT      51     1258  Araputanga  13538\n",
            "\n",
            "Amostra de fração 100% (tamanho 5570):\n",
            "      UF  COD_UF  COD_MUN   MUNICÍPIO    POP\n",
            "1168  RN      24     8607      Paraná   3934\n",
            "765   PI      22     5102    Itaueira   9939\n",
            "465   MA      21      907    Araioses  38980\n",
            "1117  RN      24     3806    Florânia  10199\n",
            "5193  MT      51     1258  Araputanga  13538\n",
            "\n",
            "Amostra 1 de tamanho 100:\n",
            "      UF  COD_UF  COD_MUN  MUNICÍPIO   POP\n",
            "1809  SE      28     5901  Riachuelo  8744\n",
            "\n",
            "Amostra 2 de tamanho 100:\n",
            "      UF  COD_UF  COD_MUN MUNICÍPIO    POP\n",
            "5432  GO      52    10000   Inhumas  53315\n",
            "\n",
            "Amostra 3 de tamanho 100:\n",
            "      UF  COD_UF  COD_MUN        MUNICÍPIO    POP\n",
            "3788  SP      35    46603  Santa Fé do Sul  34762\n",
            "\n",
            "Amostra 4 de tamanho 100:\n",
            "      UF  COD_UF  COD_MUN MUNICÍPIO     POP\n",
            "5410  GO      52     8004   Formosa  112542\n",
            "\n",
            "Amostra 5 de tamanho 100:\n",
            "      UF  COD_UF  COD_MUN      MUNICÍPIO    POP\n",
            "3151  ES      32     4054  Pedro Canário  21343\n",
            "\n",
            "Amostra 6 de tamanho 100:\n",
            "      UF  COD_UF  COD_MUN    MUNICÍPIO   POP\n",
            "4906  RS      43    14035  Pareci Novo  4072\n"
          ]
        }
      ]
    },
    {
      "cell_type": "code",
      "source": [
        "# PARA CADA AMOSTRA\n",
        "\n",
        "import pandas as pd\n",
        "import numpy as np\n",
        "\n",
        "def calcular_metricas(df):\n",
        "  \"\"\"Calcula as métricas estatísticas para um DataFrame dado.\"\"\"\n",
        "\n",
        "  total_populacao = df['POP'].sum()\n",
        "  media_populacao = df['POP'].mean()\n",
        "  mediana_populacao = df['POP'].median()\n",
        "  min_populacao = df['POP'].min()\n",
        "  max_populacao = df['POP'].max()\n",
        "  variancia = df['POP'].var()\n",
        "  desvio_padrao = df['POP'].std()\n",
        "  coeficiente_variacao = (desvio_padrao / media_populacao) * 100\n",
        "\n",
        "  municipio_min_pop = df.loc[df['POP'] == min_populacao, 'MUNICÍPIO'].iloc[0]\n",
        "  municipio_max_pop = df.loc[df['POP'] == max_populacao, 'MUNICÍPIO'].iloc[0]\n",
        "\n",
        "  return {\n",
        "      'Total da População': total_populacao,\n",
        "      'Média da População': media_populacao,\n",
        "      'Mediana da População': mediana_populacao,\n",
        "      'Mínimo': f\"{municipio_min_pop} ({min_populacao} habitantes)\",\n",
        "      'Máximo': f\"{municipio_max_pop} ({max_populacao} habitantes)\",\n",
        "      'Variância': variancia,\n",
        "      'Desvio Padrão': desvio_padrao,\n",
        "      'Coeficiente de Variação': coeficiente_variacao\n",
        "  }\n",
        "\n",
        "# tamanho 100\n",
        "for i, amostra in enumerate(amostras_100):\n",
        "    metricas = calcular_metricas(amostra)\n",
        "    print(f\"\\nAmostra {i+1} de tamanho 100:\")\n",
        "    for metrica, valor in metricas.items():\n",
        "        print(f\"{metrica}: {valor}\")"
      ],
      "metadata": {
        "colab": {
          "base_uri": "https://localhost:8080/"
        },
        "id": "-wph0wpkQDs6",
        "outputId": "7b4d8ae5-e830-4177-8428-962670547962"
      },
      "execution_count": 19,
      "outputs": [
        {
          "output_type": "stream",
          "name": "stdout",
          "text": [
            "\n",
            "Amostra 1 de tamanho 100:\n",
            "Total da População: 2678916\n",
            "Média da População: 26789.16\n",
            "Mediana da População: 10251.0\n",
            "Mínimo: Borá (877 habitantes)\n",
            "Máximo: Itaquaquecetuba (392218 habitantes)\n",
            "Variância: 2596716742.337778\n",
            "Desvio Padrão: 50957.989975447206\n",
            "Coeficiente de Variação: 190.21869284235567\n",
            "\n",
            "Amostra 2 de tamanho 100:\n",
            "Total da População: 6136883\n",
            "Média da População: 61368.83\n",
            "Mediana da População: 13843.0\n",
            "Mínimo: Quatro Irmãos (1552 habitantes)\n",
            "Máximo: Belém (1367336 habitantes)\n",
            "Variância: 29891275563.516254\n",
            "Desvio Padrão: 172890.9354579246\n",
            "Coeficiente de Variação: 281.7243468026433\n",
            "\n",
            "Amostra 3 de tamanho 100:\n",
            "Total da População: 3715051\n",
            "Média da População: 37150.51\n",
            "Mediana da População: 10687.0\n",
            "Mínimo: Jardim Olinda (1280 habitantes)\n",
            "Máximo: Osasco (777048 habitantes)\n",
            "Variância: 9932585227.302927\n",
            "Desvio Padrão: 99662.35611956466\n",
            "Coeficiente de Variação: 268.2664548065818\n",
            "\n",
            "Amostra 4 de tamanho 100:\n",
            "Total da População: 2402348\n",
            "Média da População: 24023.48\n",
            "Mediana da População: 10818.0\n",
            "Mínimo: Viçosa (1822 habitantes)\n",
            "Máximo: Vitória da Conquista (387524 habitantes)\n",
            "Variância: 1929956143.5450504\n",
            "Desvio Padrão: 43931.26612727034\n",
            "Coeficiente de Variação: 182.86803630144485\n",
            "\n",
            "Amostra 5 de tamanho 100:\n",
            "Total da População: 4437391\n",
            "Média da População: 44373.91\n",
            "Mediana da População: 11252.0\n",
            "Mínimo: Tupanci do Sul (1371 habitantes)\n",
            "Máximo: Guarulhos (1383272 habitantes)\n",
            "Variância: 21314065497.15343\n",
            "Desvio Padrão: 145993.37483993385\n",
            "Coeficiente de Variação: 329.00723609872074\n",
            "\n",
            "Amostra 6 de tamanho 100:\n",
            "Total da População: 5525383\n",
            "Média da População: 55253.83\n",
            "Mediana da População: 9890.0\n",
            "Mínimo: Oliveira de Fátima (1172 habitantes)\n",
            "Máximo: Brasília (2923369 habitantes)\n",
            "Variância: 87269282572.04149\n",
            "Desvio Padrão: 295413.7481093957\n",
            "Coeficiente de Variação: 534.6484544318388\n"
          ]
        }
      ]
    }
  ]
}