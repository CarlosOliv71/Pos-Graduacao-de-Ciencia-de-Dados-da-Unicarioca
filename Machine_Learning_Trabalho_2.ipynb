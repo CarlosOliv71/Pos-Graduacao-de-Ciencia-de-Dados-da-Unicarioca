{
  "nbformat": 4,
  "nbformat_minor": 0,
  "metadata": {
    "colab": {
      "provenance": [],
      "include_colab_link": true
    },
    "kernelspec": {
      "name": "python3",
      "display_name": "Python 3"
    },
    "language_info": {
      "name": "python"
    }
  },
  "cells": [
    {
      "cell_type": "markdown",
      "metadata": {
        "id": "view-in-github",
        "colab_type": "text"
      },
      "source": [
        "<a href=\"https://colab.research.google.com/github/CarlosOliv71/Pos-Graduacao-de-Ciencia-de-Dados-da-Unicarioca/blob/main/Machine_Learning_Trabalho_2.ipynb\" target=\"_parent\"><img src=\"https://colab.research.google.com/assets/colab-badge.svg\" alt=\"Open In Colab\"/></a>"
      ]
    },
    {
      "cell_type": "markdown",
      "source": [
        "Exercício 1"
      ],
      "metadata": {
        "id": "bUNuJh9RRFPL"
      }
    },
    {
      "cell_type": "code",
      "execution_count": null,
      "metadata": {
        "id": "nTEEtPXCQ8mP"
      },
      "outputs": [],
      "source": [
        "import pandas as pd\n",
        "import matplotlib.pyplot as plt\n",
        "df = pd.read_csv('/content/avg_rainfalltemp in UK - Sheet1.csv')\n",
        "df.head()\n",
        "plt.figure(figsize=(10, 6))\n",
        "plt.scatter(df['Avg temp(in centigrade)'], df['Avg rainfall(in mm)'], color='blue', marker='o')\n",
        "plt.title('Relação entre Temperatura Média e Precipitação Média')\n",
        "plt.xlabel('Temperatura Média (°C)')\n",
        "plt.ylabel('Precipitação Média (mm)')\n",
        "plt.grid(True)\n",
        "plt.show()"
      ]
    },
    {
      "cell_type": "markdown",
      "source": [
        "Exercício 2"
      ],
      "metadata": {
        "id": "l-txk6SqRJI3"
      }
    },
    {
      "cell_type": "code",
      "source": [
        "import pandas as pd\n",
        "import matplotlib.pyplot as plt\n",
        "import seaborn as sns\n",
        "df = pd.read_csv('/content/avg_rainfalltemp in UK - Sheet1.csv')\n",
        "df.head()\n",
        "plt.figure(figsize=(10, 6))\n",
        "sns.scatterplot(data=df,\n",
        "                x='Avg temp(in centigrade)',\n",
        "                y='Avg rainfall(in mm)',\n",
        "                hue='Period',\n",
        "                palette='viridis',\n",
        "                s=100)\n",
        "plt.title('Relação entre Temperatura Média e Precipitação Média')\n",
        "plt.xlabel('Temperatura Média (°C)')\n",
        "plt.ylabel('Precipitação Média (mm)')\n",
        "plt.grid(True)\n",
        "plt.show()"
      ],
      "metadata": {
        "id": "a86u2OPARKRv"
      },
      "execution_count": null,
      "outputs": []
    },
    {
      "cell_type": "markdown",
      "source": [
        "Exercício 3"
      ],
      "metadata": {
        "id": "W7fZy2eZRNRI"
      }
    },
    {
      "cell_type": "code",
      "source": [
        "import pandas as pd\n",
        "import matplotlib.pyplot as plt\n",
        "df = pd.read_csv('/content/avg_rainfalltemp in UK - Sheet1.csv')\n",
        "df.head()\n",
        "plt.figure(figsize=(10, 6))\n",
        "plt.bar(df['Year'], df['Avg temp(in centigrade)'], color='skyblue')\n",
        "plt.title('Temperatura Média por Ano')\n",
        "plt.xlabel('Ano')\n",
        "plt.ylabel('Temperatura Média (°C)')\n",
        "plt.xticks(df['Year'])  # Exibir todos os anos no eixo x\n",
        "plt.grid(axis='y', linestyle='--')\n",
        "plt.show()"
      ],
      "metadata": {
        "id": "6cHNLB-GROdP"
      },
      "execution_count": null,
      "outputs": []
    },
    {
      "cell_type": "markdown",
      "source": [
        "Exercício 4"
      ],
      "metadata": {
        "id": "CsKU77fuRQ0f"
      }
    },
    {
      "cell_type": "code",
      "source": [
        "import pandas as pd\n",
        "import matplotlib.pyplot as plt\n",
        "df = pd.read_csv('/content/avg_rainfalltemp in UK - Sheet1.csv')\n",
        "df.head()\n",
        "df['Avg rainfall(in mm)'] = pd.to_numeric(df['Avg rainfall(in mm)'], errors='coerce')\n",
        "df.dropna(subset=['Avg rainfall(in mm)'], inplace=True)\n",
        "plt.figure(figsize=(10, 6))\n",
        "plt.hist(df['Avg rainfall(in mm)'], bins=5, color='lightblue', edgecolor='black')\n",
        "plt.title('Histograma da Precipitação Média')\n",
        "plt.xlabel('Precipitação Média (mm)')\n",
        "plt.ylabel('Frequência')\n",
        "plt.grid(axis='y', linestyle='--')\n",
        "plt.show()"
      ],
      "metadata": {
        "id": "BUrZvPy1RS94"
      },
      "execution_count": null,
      "outputs": []
    },
    {
      "cell_type": "markdown",
      "source": [
        "Exercício 5"
      ],
      "metadata": {
        "id": "gVl74TbfRT0P"
      }
    },
    {
      "cell_type": "code",
      "source": [
        "import pandas as pd\n",
        "import matplotlib.pyplot as plt\n",
        "import seaborn as sns\n",
        "df = pd.read_csv('/content/avg_rainfalltemp in UK - Sheet1.csv')\n",
        "df.head()\n",
        "plt.figure(figsize=(10, 6))\n",
        "sns.histplot(df['Avg rainfall(in mm)'], bins=5, kde=True, color='blue', edgecolor='black')\n",
        "plt.title('Histograma da Precipitação Média com Curva de Densidade')\n",
        "plt.xlabel('Precipitação Média (mm)')\n",
        "plt.ylabel('Frequência')\n",
        "plt.grid(axis='y', linestyle='--')\n",
        "plt.show()"
      ],
      "metadata": {
        "id": "B8P696L7RX8I"
      },
      "execution_count": null,
      "outputs": []
    },
    {
      "cell_type": "markdown",
      "source": [
        "Exercício 6"
      ],
      "metadata": {
        "id": "oLOfRtfTRY8v"
      }
    },
    {
      "cell_type": "code",
      "source": [
        "import pandas as pd\n",
        "import matplotlib.pyplot as plt\n",
        "import seaborn as sns\n",
        "df = pd.read_csv('/content/avg_rainfalltemp in UK - Sheet1.csv')\n",
        "df.head()\n",
        "plt.figure(figsize=(10, 6))\n",
        "sns.boxplot(x='Year', y='Avg rainfall(in mm)', hue='Type of period', data=df, palette='colorblind', legend=False)\n",
        "plt.title('Boxplot da Precipitação Média ao Longo dos Anos')\n",
        "plt.xlabel('Ano')\n",
        "plt.ylabel('Precipitação Média (mm)')\n",
        "plt.grid(axis='y', linestyle='--')\n",
        "plt.show()"
      ],
      "metadata": {
        "id": "3LisCmDURZ8Y"
      },
      "execution_count": null,
      "outputs": []
    },
    {
      "cell_type": "markdown",
      "source": [
        "Exercício 7"
      ],
      "metadata": {
        "id": "3Nktqu9PRc7H"
      }
    },
    {
      "cell_type": "code",
      "source": [
        "import pandas as pd\n",
        "df = pd.read_csv('/content/avg_rainfalltemp in UK - Sheet1.csv')\n",
        "df.head()\n",
        "df_monthly = df[df['Type of period'] == 'Monthly']\n",
        "pd.set_option('display.max_rows', None)\n",
        "print(df_monthly)"
      ],
      "metadata": {
        "id": "HzitPbW_RfZY"
      },
      "execution_count": null,
      "outputs": []
    }
  ]
}