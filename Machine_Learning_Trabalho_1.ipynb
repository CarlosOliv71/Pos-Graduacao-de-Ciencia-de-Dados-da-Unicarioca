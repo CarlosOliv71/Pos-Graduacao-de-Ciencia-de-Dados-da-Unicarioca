{
  "nbformat": 4,
  "nbformat_minor": 0,
  "metadata": {
    "colab": {
      "provenance": [],
      "include_colab_link": true
    },
    "kernelspec": {
      "name": "python3",
      "display_name": "Python 3"
    },
    "language_info": {
      "name": "python"
    }
  },
  "cells": [
    {
      "cell_type": "markdown",
      "metadata": {
        "id": "view-in-github",
        "colab_type": "text"
      },
      "source": [
        "<a href=\"https://colab.research.google.com/github/CarlosOliv71/Pos-Graduacao-de-Ciencia-de-Dados-da-Unicarioca/blob/main/Machine_Learning_Trabalho_1.ipynb\" target=\"_parent\"><img src=\"https://colab.research.google.com/assets/colab-badge.svg\" alt=\"Open In Colab\"/></a>"
      ]
    },
    {
      "cell_type": "code",
      "source": [
        "import pandas as pd\n",
        "df = pd.read_csv('/content/ds_salaries.csv')\n",
        "df.head()\n",
        "dimensoes = df.shape"
      ],
      "metadata": {
        "id": "CDq9glT_3l50"
      },
      "execution_count": null,
      "outputs": []
    },
    {
      "cell_type": "code",
      "source": [
        "print('---------------1.\tQuais as dimensões do dataframe?')\n",
        "print('As dimensões do DataFrame são (Linhas X Colunas)', dimensoes)"
      ],
      "metadata": {
        "id": "30FEnDYE3qIK"
      },
      "execution_count": null,
      "outputs": []
    },
    {
      "cell_type": "code",
      "source": [
        "print('---------------2.\tQuais são as colunas apresentadas no dataframe?')\n",
        "df.info()"
      ],
      "metadata": {
        "id": "LlGdXdfL3p8h"
      },
      "execution_count": null,
      "outputs": []
    },
    {
      "cell_type": "code",
      "source": [
        "print('---------------3.\tQual o menor salário pago, em dólares americanos (coluna salary_in_usd)?')\n",
        "mim = df['salary_in_usd'].min()\n",
        "print(f'O menor salário pago é de {mim} dólares')"
      ],
      "metadata": {
        "id": "Q63ktNWO3puB"
      },
      "execution_count": null,
      "outputs": []
    },
    {
      "cell_type": "code",
      "source": [
        "print('---------------4.\tQual o maior salário pago, em dólares americanos (coluna salary_in_usd)?')\n",
        "max = df['salary_in_usd'].max()\n",
        "print(f'O maior salário pago é de {max} dólares')"
      ],
      "metadata": {
        "id": "XMN97qgF3piZ"
      },
      "execution_count": null,
      "outputs": []
    },
    {
      "cell_type": "code",
      "source": [
        "print('---------------5.\tQuais os cargos descritos (coluna job_title)?')\n",
        "df['job_title'] = df['job_title'].str.strip()\n",
        "df['job_title'] = df['job_title'].str.upper()\n",
        "df['job_title'] = df['job_title'].str.title()\n",
        "job = df['job_title'].unique()\n",
        "print('==========Descrição dos cargos==========')\n",
        "print(\"\\n\".join(job))"
      ],
      "metadata": {
        "id": "0ahkUDI-3pOK"
      },
      "execution_count": null,
      "outputs": []
    },
    {
      "cell_type": "code",
      "source": [
        "print('---------------6.\tQuantos cargos foram descritos?')\n",
        "cargos_descritos = df['job_title'].nunique()\n",
        "print('Foram encontrados', cargos_descritos, 'cargos.')"
      ],
      "metadata": {
        "id": "qYMJ8AtL3yES"
      },
      "execution_count": null,
      "outputs": []
    },
    {
      "cell_type": "code",
      "source": [
        "print('---------------7.\tQual a moeda em que mais salários foram pagos (salary_currency)?')\n",
        "cont_moeda = df['salary_currency'].value_counts()\n",
        "print('A moeda em que mais salários foram pagos é DÓLAR (UDS)')\n",
        "print(cont_moeda)"
      ],
      "metadata": {
        "id": "OZjL7fph3x7x"
      },
      "execution_count": null,
      "outputs": []
    },
    {
      "cell_type": "code",
      "source": [
        "print('---------------8.\tQuais as médias e medianas dos salários pagos, em dólar, para cada cargo?')\n",
        "df_usd = df[df['salary_currency'] == 'USD']\n",
        "salario_por_cargo = df_usd.groupby('job_title')['salary'].agg(['mean', 'median'])\n",
        "print(salario_por_cargo)\n"
      ],
      "metadata": {
        "id": "nZpiSG5M32nK"
      },
      "execution_count": null,
      "outputs": []
    },
    {
      "cell_type": "code",
      "execution_count": null,
      "metadata": {
        "colab": {
          "base_uri": "https://localhost:8080/"
        },
        "id": "N0WDgFUW21Ud",
        "outputId": "95551a3d-b9cb-48a1-c6bd-880ff9e94a3b"
      },
      "outputs": [
        {
          "output_type": "stream",
          "name": "stdout",
          "text": [
            "---------------1.\tQuais as dimensões do dataframe?\n",
            "(607, 12)\n",
            "---------------2.\tQuais são as colunas apresentadas no dataframe?\n",
            "<class 'pandas.core.frame.DataFrame'>\n",
            "RangeIndex: 607 entries, 0 to 606\n",
            "Data columns (total 12 columns):\n",
            " #   Column              Non-Null Count  Dtype \n",
            "---  ------              --------------  ----- \n",
            " 0   Unnamed: 0          607 non-null    int64 \n",
            " 1   work_year           607 non-null    int64 \n",
            " 2   experience_level    607 non-null    object\n",
            " 3   employment_type     607 non-null    object\n",
            " 4   job_title           607 non-null    object\n",
            " 5   salary              607 non-null    int64 \n",
            " 6   salary_currency     607 non-null    object\n",
            " 7   salary_in_usd       607 non-null    int64 \n",
            " 8   employee_residence  607 non-null    object\n",
            " 9   remote_ratio        607 non-null    int64 \n",
            " 10  company_location    607 non-null    object\n",
            " 11  company_size        607 non-null    object\n",
            "dtypes: int64(5), object(7)\n",
            "memory usage: 57.0+ KB\n",
            "---------------3.\tQual o menor salário pago, em dólares americanos (coluna salary_in_usd)?\n",
            "O valor Minimo da coluna salary_in_usd é 2859\n",
            "---------------4.\tQual o maior salário pago, em dólares americanos (coluna salary_in_usd)?\n",
            "O valor Maximo da coluna salary_in_usd é 600000\n",
            "---------------5.\tQuais os cargos descritos (coluna job_title)?\n",
            "['Data Scientist' 'Machine Learning Scientist' 'Big Data Engineer'\n",
            " 'Product Data Analyst' 'Machine Learning Engineer' 'Data Analyst'\n",
            " 'Lead Data Scientist' 'Business Data Analyst' 'Lead Data Engineer'\n",
            " 'Lead Data Analyst' 'Data Engineer' 'Data Science Consultant'\n",
            " 'Bi Data Analyst' 'Director Of Data Science' 'Research Scientist'\n",
            " 'Machine Learning Manager' 'Data Engineering Manager'\n",
            " 'Machine Learning Infrastructure Engineer' 'Ml Engineer' 'Ai Scientist'\n",
            " 'Computer Vision Engineer' 'Principal Data Scientist'\n",
            " 'Data Science Manager' 'Head Of Data' '3D Computer Vision Researcher'\n",
            " 'Data Analytics Engineer' 'Applied Data Scientist'\n",
            " 'Marketing Data Analyst' 'Cloud Data Engineer' 'Financial Data Analyst'\n",
            " 'Computer Vision Software Engineer' 'Director Of Data Engineering'\n",
            " 'Data Science Engineer' 'Principal Data Engineer'\n",
            " 'Machine Learning Developer' 'Applied Machine Learning Scientist'\n",
            " 'Data Analytics Manager' 'Head Of Data Science' 'Data Specialist'\n",
            " 'Data Architect' 'Finance Data Analyst' 'Principal Data Analyst'\n",
            " 'Big Data Architect' 'Staff Data Scientist' 'Analytics Engineer'\n",
            " 'Etl Developer' 'Head Of Machine Learning' 'Nlp Engineer'\n",
            " 'Lead Machine Learning Engineer' 'Data Analytics Lead']\n",
            "---------------6.\tQuantos cargos foram descritos?\n",
            "Foram encontrados 50 cargos\n",
            "---------------7.\tQual a moeda em que mais salários foram pagos (salary_currency)?\n",
            "salary_currency\n",
            "USD    398\n",
            "EUR     95\n",
            "GBP     44\n",
            "INR     27\n",
            "CAD     18\n",
            "JPY      3\n",
            "PLN      3\n",
            "TRY      3\n",
            "CNY      2\n",
            "MXN      2\n",
            "HUF      2\n",
            "DKK      2\n",
            "SGD      2\n",
            "BRL      2\n",
            "AUD      2\n",
            "CLP      1\n",
            "CHF      1\n",
            "Name: count, dtype: int64\n",
            "---------------8.\tQuais as médias e medianas dos salários pagos, em dólar, para cada cargo?\n",
            "                                                   mean    median\n",
            "job_title                                                        \n",
            "Ai Scientist                               79800.000000   55000.0\n",
            "Analytics Engineer                        175000.000000  179850.0\n",
            "Applied Data Scientist                    238000.000000  177000.0\n",
            "Applied Machine Learning Scientist        178800.000000   75000.0\n",
            "Bi Data Analyst                            82454.400000   98000.0\n",
            "Big Data Engineer                          49333.333333   60000.0\n",
            "Business Data Analyst                     117500.000000  117500.0\n",
            "Cloud Data Engineer                       160000.000000  160000.0\n",
            "Computer Vision Engineer                   54750.000000   42000.0\n",
            "Computer Vision Software Engineer         110000.000000  110000.0\n",
            "Data Analyst                              101761.768293  100000.0\n",
            "Data Analytics Engineer                    60000.000000   50000.0\n",
            "Data Analytics Lead                       405000.000000  405000.0\n",
            "Data Analytics Manager                    127134.285714  120000.0\n",
            "Data Architect                            177873.909091  180000.0\n",
            "Data Engineer                             139465.800000  136000.0\n",
            "Data Engineering Manager                  159000.000000  153000.0\n",
            "Data Science Consultant                    96500.000000   96500.0\n",
            "Data Science Engineer                      60000.000000   60000.0\n",
            "Data Science Manager                      175118.300000  160171.0\n",
            "Data Scientist                            139712.758621  140000.0\n",
            "Data Specialist                           165000.000000  165000.0\n",
            "Director Of Data Engineering              200000.000000  200000.0\n",
            "Director Of Data Science                  247666.666667  250000.0\n",
            "Financial Data Analyst                    275000.000000  275000.0\n",
            "Head Of Data                              221666.666667  230000.0\n",
            "Head Of Data Science                      146718.750000  138937.5\n",
            "Lead Data Analyst                         128500.000000  128500.0\n",
            "Lead Data Engineer                        154250.000000  142500.0\n",
            "Lead Data Scientist                       152500.000000  152500.0\n",
            "Machine Learning Developer                100000.000000  100000.0\n",
            "Machine Learning Engineer                 140488.000000  144000.0\n",
            "Machine Learning Infrastructure Engineer  195000.000000  195000.0\n",
            "Machine Learning Scientist                158412.500000  156500.0\n",
            "Ml Engineer                               263000.000000  263000.0\n",
            "Principal Data Analyst                    122500.000000  122500.0\n",
            "Principal Data Engineer                   328333.333333  200000.0\n",
            "Principal Data Scientist                  255500.000000  227500.0\n",
            "Product Data Analyst                       20000.000000   20000.0\n",
            "Research Scientist                        139428.428571  100000.0\n",
            "Staff Data Scientist                      105000.000000  105000.0\n",
            "---------------9.\tQuais os valores totais dos salários pagos (as somas de todos os salários pagos por cada país), em dólar, para cada país contratante (company_location)??\n",
            "company_location\n",
            "AE      300000\n",
            "AU      150000\n",
            "BR       24000\n",
            "CA     1244700\n",
            "CN      100000\n",
            "CO       21844\n",
            "CZ       69999\n",
            "DE       85000\n",
            "DZ      100000\n",
            "ES       55000\n",
            "FR      152000\n",
            "GB       50000\n",
            "GR       20000\n",
            "HN       20000\n",
            "IN       20000\n",
            "IQ      100000\n",
            "IR        4000\n",
            "JP      502000\n",
            "KE        9272\n",
            "LU       10000\n",
            "MD       18000\n",
            "MX       60000\n",
            "MY       40000\n",
            "NG       60000\n",
            "NL       42000\n",
            "NZ      125000\n",
            "PK       40000\n",
            "RO       60000\n",
            "RU      315000\n",
            "UA       13400\n",
            "US    50816171\n",
            "VN        4000\n",
            "Name: salary, dtype: int64\n"
          ]
        }
      ],
      "source": [
        "print('---------------9.\tQuais os valores totais dos salários pagos (as somas de todos os salários pagos por cada país), em dólar, para cada país contratante (company_location)?')\n",
        "df_usd = df[df['salary_currency'] == 'USD']\n",
        "salarios_por_pais = df_usd.groupby('company_location')['salary'].sum()\n",
        "print(salarios_por_pais)"
      ]
    }
  ]
}